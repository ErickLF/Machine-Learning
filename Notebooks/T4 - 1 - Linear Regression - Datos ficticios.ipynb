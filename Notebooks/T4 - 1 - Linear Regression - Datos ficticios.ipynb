{
 "cells": [
  {
   "cell_type": "markdown",
   "metadata": {},
   "source": [
    "# Modelos de Regresion Lineal\n",
    "## Modelo con datos simulados\n",
    "\n",
    "* y = a + b * x\n",
    "\n",
    "* x : 100 valores distribuidos segun una N(1.5, 2.5)\n",
    "\n",
    "* Ye : 11 + 3.0 * x + e\n",
    "* e estara distribuida segun una N(0, 0.8)"
   ]
  },
  {
   "cell_type": "code",
   "execution_count": 1,
   "metadata": {},
   "outputs": [],
   "source": [
    "import pandas as pd\n",
    "import numpy as np"
   ]
  },
  {
   "cell_type": "code",
   "execution_count": 3,
   "metadata": {},
   "outputs": [],
   "source": [
    "x = 1.5 + 2.5 * np.random.randn(100)"
   ]
  },
  {
   "cell_type": "code",
   "execution_count": 4,
   "metadata": {},
   "outputs": [],
   "source": [
    "res = 0 + 0.8 * np.random.rand(100) #residuos"
   ]
  },
  {
   "cell_type": "code",
   "execution_count": 5,
   "metadata": {},
   "outputs": [],
   "source": [
    "y_pred = 11 + 3.0 * x"
   ]
  },
  {
   "cell_type": "code",
   "execution_count": 7,
   "metadata": {},
   "outputs": [],
   "source": [
    "y_act = 11 + 3.0 * x + res"
   ]
  },
  {
   "cell_type": "code",
   "execution_count": 9,
   "metadata": {},
   "outputs": [],
   "source": [
    "x_list = x.tolist()\n",
    "y_pred_list = y_pred.tolist()\n",
    "y_act_list = y_act.tolist()"
   ]
  },
  {
   "cell_type": "code",
   "execution_count": 10,
   "metadata": {},
   "outputs": [],
   "source": [
    "data = pd.DataFrame(\n",
    "    {\n",
    "        \"x\":x_list,\n",
    "        \"y\":y_act,\n",
    "        \"y_pre\":y_pred_list\n",
    "    }\n",
    ")"
   ]
  },
  {
   "cell_type": "code",
   "execution_count": 11,
   "metadata": {},
   "outputs": [
    {
     "data": {
      "text/html": [
       "<div>\n",
       "<style scoped>\n",
       "    .dataframe tbody tr th:only-of-type {\n",
       "        vertical-align: middle;\n",
       "    }\n",
       "\n",
       "    .dataframe tbody tr th {\n",
       "        vertical-align: top;\n",
       "    }\n",
       "\n",
       "    .dataframe thead th {\n",
       "        text-align: right;\n",
       "    }\n",
       "</style>\n",
       "<table border=\"1\" class=\"dataframe\">\n",
       "  <thead>\n",
       "    <tr style=\"text-align: right;\">\n",
       "      <th></th>\n",
       "      <th>x</th>\n",
       "      <th>y</th>\n",
       "      <th>y_pre</th>\n",
       "    </tr>\n",
       "  </thead>\n",
       "  <tbody>\n",
       "    <tr>\n",
       "      <td>0</td>\n",
       "      <td>-0.255287</td>\n",
       "      <td>10.388788</td>\n",
       "      <td>10.234140</td>\n",
       "    </tr>\n",
       "    <tr>\n",
       "      <td>1</td>\n",
       "      <td>-0.175023</td>\n",
       "      <td>10.643138</td>\n",
       "      <td>10.474930</td>\n",
       "    </tr>\n",
       "    <tr>\n",
       "      <td>2</td>\n",
       "      <td>5.136060</td>\n",
       "      <td>26.759825</td>\n",
       "      <td>26.408179</td>\n",
       "    </tr>\n",
       "    <tr>\n",
       "      <td>3</td>\n",
       "      <td>-0.227523</td>\n",
       "      <td>10.847449</td>\n",
       "      <td>10.317430</td>\n",
       "    </tr>\n",
       "    <tr>\n",
       "      <td>4</td>\n",
       "      <td>0.226361</td>\n",
       "      <td>11.953690</td>\n",
       "      <td>11.679084</td>\n",
       "    </tr>\n",
       "  </tbody>\n",
       "</table>\n",
       "</div>"
      ],
      "text/plain": [
       "          x          y      y_pre\n",
       "0 -0.255287  10.388788  10.234140\n",
       "1 -0.175023  10.643138  10.474930\n",
       "2  5.136060  26.759825  26.408179\n",
       "3 -0.227523  10.847449  10.317430\n",
       "4  0.226361  11.953690  11.679084"
      ]
     },
     "execution_count": 11,
     "metadata": {},
     "output_type": "execute_result"
    }
   ],
   "source": [
    "data.head()"
   ]
  },
  {
   "cell_type": "code",
   "execution_count": 12,
   "metadata": {},
   "outputs": [],
   "source": [
    "import matplotlib.pyplot as plt"
   ]
  },
  {
   "cell_type": "code",
   "execution_count": 45,
   "metadata": {},
   "outputs": [],
   "source": [
    "y_mean = [np.mean(y_act) for i in range(1, len(x_list)+1)]"
   ]
  },
  {
   "cell_type": "code",
   "execution_count": 22,
   "metadata": {},
   "outputs": [
    {
     "data": {
      "text/plain": [
       "Text(0.5, 1.0, 'Valor Actual vs Prediccion')"
      ]
     },
     "execution_count": 22,
     "metadata": {},
     "output_type": "execute_result"
    },
    {
     "data": {
      "image/png": "[encoded data removed]",
      "text/plain": [
       "<Figure size 432x288 with 1 Axes>"
      ]
     },
     "metadata": {
      "needs_background": "light"
     },
     "output_type": "display_data"
    }
   ],
   "source": [
    "%matplotlib inline \n",
    "plt.plot(x,y_pred)\n",
    "plt.plot(x,y_act,\"ro\")\n",
    "plt.plot(x,y_mean,\"g\")\n",
    "plt.title(\"Valor Actual vs Prediccion\")"
   ]
  },
  {
   "cell_type": "code",
   "execution_count": null,
   "metadata": {},
   "outputs": [],
   "source": [
    "###SSR Suma de los cuadrados de la regresion -- Explicada por el modelo\n",
    "###SSD -- Error aleatorio\n",
    "###SST Suma de los cuadrados totales -- Error total cometido\n",
    "#R2 = SSR/SST"
   ]
  },
  {
   "cell_type": "code",
   "execution_count": 25,
   "metadata": {},
   "outputs": [],
   "source": [
    "data[\"SSR\"] = (data[\"y_pre\"] - np.mean(y_act))**2\n",
    "data[\"SSD\"] = (data[\"y_pre\"] - data[\"y\"])**2\n",
    "data[\"SST\"] = (data[\"y\"] - np.mean(y_act))**2"
   ]
  },
  {
   "cell_type": "code",
   "execution_count": 26,
   "metadata": {},
   "outputs": [
    {
     "data": {
      "text/html": [
       "<div>\n",
       "<style scoped>\n",
       "    .dataframe tbody tr th:only-of-type {\n",
       "        vertical-align: middle;\n",
       "    }\n",
       "\n",
       "    .dataframe tbody tr th {\n",
       "        vertical-align: top;\n",
       "    }\n",
       "\n",
       "    .dataframe thead th {\n",
       "        text-align: right;\n",
       "    }\n",
       "</style>\n",
       "<table border=\"1\" class=\"dataframe\">\n",
       "  <thead>\n",
       "    <tr style=\"text-align: right;\">\n",
       "      <th></th>\n",
       "      <th>x</th>\n",
       "      <th>y</th>\n",
       "      <th>y_pre</th>\n",
       "      <th>SSR</th>\n",
       "      <th>SSD</th>\n",
       "      <th>SST</th>\n",
       "    </tr>\n",
       "  </thead>\n",
       "  <tbody>\n",
       "    <tr>\n",
       "      <td>0</td>\n",
       "      <td>-0.255287</td>\n",
       "      <td>10.388788</td>\n",
       "      <td>10.234140</td>\n",
       "      <td>43.433705</td>\n",
       "      <td>0.023916</td>\n",
       "      <td>41.419231</td>\n",
       "    </tr>\n",
       "    <tr>\n",
       "      <td>1</td>\n",
       "      <td>-0.175023</td>\n",
       "      <td>10.643138</td>\n",
       "      <td>10.474930</td>\n",
       "      <td>40.317868</td>\n",
       "      <td>0.028294</td>\n",
       "      <td>38.210037</td>\n",
       "    </tr>\n",
       "    <tr>\n",
       "      <td>2</td>\n",
       "      <td>5.136060</td>\n",
       "      <td>26.759825</td>\n",
       "      <td>26.408179</td>\n",
       "      <td>91.845651</td>\n",
       "      <td>0.123655</td>\n",
       "      <td>98.709398</td>\n",
       "    </tr>\n",
       "    <tr>\n",
       "      <td>3</td>\n",
       "      <td>-0.227523</td>\n",
       "      <td>10.847449</td>\n",
       "      <td>10.317430</td>\n",
       "      <td>42.342803</td>\n",
       "      <td>0.280920</td>\n",
       "      <td>35.725911</td>\n",
       "    </tr>\n",
       "    <tr>\n",
       "      <td>4</td>\n",
       "      <td>0.226361</td>\n",
       "      <td>11.953690</td>\n",
       "      <td>11.679084</td>\n",
       "      <td>26.475975</td>\n",
       "      <td>0.075408</td>\n",
       "      <td>23.725424</td>\n",
       "    </tr>\n",
       "  </tbody>\n",
       "</table>\n",
       "</div>"
      ],
      "text/plain": [
       "          x          y      y_pre        SSR       SSD        SST\n",
       "0 -0.255287  10.388788  10.234140  43.433705  0.023916  41.419231\n",
       "1 -0.175023  10.643138  10.474930  40.317868  0.028294  38.210037\n",
       "2  5.136060  26.759825  26.408179  91.845651  0.123655  98.709398\n",
       "3 -0.227523  10.847449  10.317430  42.342803  0.280920  35.725911\n",
       "4  0.226361  11.953690  11.679084  26.475975  0.075408  23.725424"
      ]
     },
     "execution_count": 26,
     "metadata": {},
     "output_type": "execute_result"
    }
   ],
   "source": [
    "data.head()"
   ]
  },
  {
   "cell_type": "code",
   "execution_count": 27,
   "metadata": {},
   "outputs": [],
   "source": [
    "SSR = sum(data[\"SSR\"])\n",
    "SSD = sum(data[\"SSD\"])\n",
    "SST = sum(data[\"SST\"])"
   ]
  },
  {
   "cell_type": "code",
   "execution_count": 28,
   "metadata": {},
   "outputs": [
    {
     "data": {
      "text/plain": [
       "19.937068709487225"
      ]
     },
     "execution_count": 28,
     "metadata": {},
     "output_type": "execute_result"
    }
   ],
   "source": [
    "SSD"
   ]
  },
  {
   "cell_type": "code",
   "execution_count": 29,
   "metadata": {},
   "outputs": [
    {
     "data": {
      "text/plain": [
       "5790.523028274289"
      ]
     },
     "execution_count": 29,
     "metadata": {},
     "output_type": "execute_result"
    }
   ],
   "source": [
    "SST"
   ]
  },
  {
   "cell_type": "code",
   "execution_count": 30,
   "metadata": {},
   "outputs": [
    {
     "data": {
      "text/plain": [
       "5801.1624003589195"
      ]
     },
     "execution_count": 30,
     "metadata": {},
     "output_type": "execute_result"
    }
   ],
   "source": [
    "SSR"
   ]
  },
  {
   "cell_type": "code",
   "execution_count": 31,
   "metadata": {},
   "outputs": [
    {
     "data": {
      "text/plain": [
       "5821.0994690684065"
      ]
     },
     "execution_count": 31,
     "metadata": {},
     "output_type": "execute_result"
    }
   ],
   "source": [
    "SSR+SSD"
   ]
  },
  {
   "cell_type": "code",
   "execution_count": 32,
   "metadata": {},
   "outputs": [
    {
     "data": {
      "text/plain": [
       "1.0018373766985609"
      ]
     },
     "execution_count": 32,
     "metadata": {},
     "output_type": "execute_result"
    }
   ],
   "source": [
    "R2 = SSR / SST\n",
    "R2"
   ]
  },
  {
   "cell_type": "code",
   "execution_count": 34,
   "metadata": {},
   "outputs": [
    {
     "data": {
      "text/plain": [
       "(array([10.,  5.,  7., 13., 14., 11.,  8., 10., 13.,  9.]),\n",
       " array([-0.79622905, -0.71781298, -0.63939691, -0.56098084, -0.48256477,\n",
       "        -0.40414871, -0.32573264, -0.24731657, -0.1689005 , -0.09048444,\n",
       "        -0.01206837]),\n",
       " <a list of 10 Patch objects>)"
      ]
     },
     "execution_count": 34,
     "metadata": {},
     "output_type": "execute_result"
    },
    {
     "data": {
      "image/png": "[encoded data removed]",
      "text/plain": [
       "<Figure size 432x288 with 1 Axes>"
      ]
     },
     "metadata": {
      "needs_background": "light"
     },
     "output_type": "display_data"
    }
   ],
   "source": [
    "plt.hist((data[\"y_pre\"] - data[\"y\"]))"
   ]
  },
  {
   "cell_type": "markdown",
   "metadata": {},
   "source": [
    "## Obteniendo la recta de regresion\n",
    "* y = a + b* x\n",
    "* b = sum(xi + x_m)*(y_i - y_m) / sum(xi - x_m)2\n",
    "* a = y_m - b * x_m"
   ]
  },
  {
   "cell_type": "code",
   "execution_count": 47,
   "metadata": {},
   "outputs": [
    {
     "data": {
      "text/plain": [
       "(1.8124772388785046, 16.824564919613657)"
      ]
     },
     "execution_count": 47,
     "metadata": {},
     "output_type": "execute_result"
    }
   ],
   "source": [
    "x_mean = np.mean(data[\"x\"])\n",
    "y_m = np.mean(data[\"y\"])\n",
    "x_mean, y_m"
   ]
  },
  {
   "cell_type": "code",
   "execution_count": 48,
   "metadata": {},
   "outputs": [],
   "source": [
    "data[\"beta_n\"] = (data[\"x\"] - x_mean) * (data[\"y\"] - y_m)\n",
    "data[\"beta_d\"] = (data[\"x\"] - x_mean)**2"
   ]
  },
  {
   "cell_type": "code",
   "execution_count": 49,
   "metadata": {},
   "outputs": [],
   "source": [
    "beta = sum(data[\"beta_n\"])/ sum(data[\"beta_d\"])"
   ]
  },
  {
   "cell_type": "code",
   "execution_count": 50,
   "metadata": {},
   "outputs": [
    {
     "data": {
      "text/plain": [
       "(11.387416069339011, 2.999843933841043)"
      ]
     },
     "execution_count": 50,
     "metadata": {},
     "output_type": "execute_result"
    }
   ],
   "source": [
    "alpha = y_m - beta * x_mean\n",
    "alpha, beta"
   ]
  },
  {
   "cell_type": "markdown",
   "metadata": {},
   "source": [
    "Modelo lineal obtenido por regresion es y = 11.38 + 2.99 * x"
   ]
  },
  {
   "cell_type": "code",
   "execution_count": 51,
   "metadata": {},
   "outputs": [],
   "source": [
    "data[\"y_model\"] = alpha +beta * data[\"x\"]"
   ]
  },
  {
   "cell_type": "code",
   "execution_count": 52,
   "metadata": {},
   "outputs": [
    {
     "data": {
      "text/html": [
       "<div>\n",
       "<style scoped>\n",
       "    .dataframe tbody tr th:only-of-type {\n",
       "        vertical-align: middle;\n",
       "    }\n",
       "\n",
       "    .dataframe tbody tr th {\n",
       "        vertical-align: top;\n",
       "    }\n",
       "\n",
       "    .dataframe thead th {\n",
       "        text-align: right;\n",
       "    }\n",
       "</style>\n",
       "<table border=\"1\" class=\"dataframe\">\n",
       "  <thead>\n",
       "    <tr style=\"text-align: right;\">\n",
       "      <th></th>\n",
       "      <th>x</th>\n",
       "      <th>y</th>\n",
       "      <th>y_pre</th>\n",
       "      <th>SSR</th>\n",
       "      <th>SSD</th>\n",
       "      <th>SST</th>\n",
       "      <th>beta_n</th>\n",
       "      <th>beta_d</th>\n",
       "      <th>y_model</th>\n",
       "    </tr>\n",
       "  </thead>\n",
       "  <tbody>\n",
       "    <tr>\n",
       "      <td>0</td>\n",
       "      <td>-0.255287</td>\n",
       "      <td>10.388788</td>\n",
       "      <td>10.234140</td>\n",
       "      <td>43.433705</td>\n",
       "      <td>0.023916</td>\n",
       "      <td>41.419231</td>\n",
       "      <td>13.307669</td>\n",
       "      <td>4.275648</td>\n",
       "      <td>10.621596</td>\n",
       "    </tr>\n",
       "    <tr>\n",
       "      <td>1</td>\n",
       "      <td>-0.175023</td>\n",
       "      <td>10.643138</td>\n",
       "      <td>10.474930</td>\n",
       "      <td>40.317868</td>\n",
       "      <td>0.028294</td>\n",
       "      <td>38.210037</td>\n",
       "      <td>12.285590</td>\n",
       "      <td>3.950159</td>\n",
       "      <td>10.862373</td>\n",
       "    </tr>\n",
       "    <tr>\n",
       "      <td>2</td>\n",
       "      <td>5.136060</td>\n",
       "      <td>26.759825</td>\n",
       "      <td>26.408179</td>\n",
       "      <td>91.845651</td>\n",
       "      <td>0.123655</td>\n",
       "      <td>98.709398</td>\n",
       "      <td>33.020655</td>\n",
       "      <td>11.046199</td>\n",
       "      <td>26.794793</td>\n",
       "    </tr>\n",
       "    <tr>\n",
       "      <td>3</td>\n",
       "      <td>-0.227523</td>\n",
       "      <td>10.847449</td>\n",
       "      <td>10.317430</td>\n",
       "      <td>42.342803</td>\n",
       "      <td>0.280920</td>\n",
       "      <td>35.725911</td>\n",
       "      <td>12.193319</td>\n",
       "      <td>4.161602</td>\n",
       "      <td>10.704882</td>\n",
       "    </tr>\n",
       "    <tr>\n",
       "      <td>4</td>\n",
       "      <td>0.226361</td>\n",
       "      <td>11.953690</td>\n",
       "      <td>11.679084</td>\n",
       "      <td>26.475975</td>\n",
       "      <td>0.075408</td>\n",
       "      <td>23.725424</td>\n",
       "      <td>7.725773</td>\n",
       "      <td>2.515764</td>\n",
       "      <td>12.066465</td>\n",
       "    </tr>\n",
       "  </tbody>\n",
       "</table>\n",
       "</div>"
      ],
      "text/plain": [
       "          x          y      y_pre        SSR       SSD        SST     beta_n  \\\n",
       "0 -0.255287  10.388788  10.234140  43.433705  0.023916  41.419231  13.307669   \n",
       "1 -0.175023  10.643138  10.474930  40.317868  0.028294  38.210037  12.285590   \n",
       "2  5.136060  26.759825  26.408179  91.845651  0.123655  98.709398  33.020655   \n",
       "3 -0.227523  10.847449  10.317430  42.342803  0.280920  35.725911  12.193319   \n",
       "4  0.226361  11.953690  11.679084  26.475975  0.075408  23.725424   7.725773   \n",
       "\n",
       "      beta_d    y_model  \n",
       "0   4.275648  10.621596  \n",
       "1   3.950159  10.862373  \n",
       "2  11.046199  26.794793  \n",
       "3   4.161602  10.704882  \n",
       "4   2.515764  12.066465  "
      ]
     },
     "execution_count": 52,
     "metadata": {},
     "output_type": "execute_result"
    }
   ],
   "source": [
    "data.head()"
   ]
  },
  {
   "cell_type": "code",
   "execution_count": 53,
   "metadata": {},
   "outputs": [],
   "source": [
    "SSR = sum ((data[\"y_model\"] - y_m)**2)\n",
    "SSD = sum((data[\"y_model\"] - data[\"y\"])**2)\n",
    "SST = sum((data[\"y\"] - y_m)**2)"
   ]
  },
  {
   "cell_type": "code",
   "execution_count": 54,
   "metadata": {},
   "outputs": [
    {
     "data": {
      "text/plain": [
       "(5785.573186908701, 4.9498413655842555, 5790.523028274289)"
      ]
     },
     "execution_count": 54,
     "metadata": {},
     "output_type": "execute_result"
    }
   ],
   "source": [
    "SSR, SSD, SST"
   ]
  },
  {
   "cell_type": "code",
   "execution_count": 55,
   "metadata": {},
   "outputs": [
    {
     "data": {
      "text/plain": [
       "0.9991451823364801"
      ]
     },
     "execution_count": 55,
     "metadata": {},
     "output_type": "execute_result"
    }
   ],
   "source": [
    "R2 = SSR / SST\n",
    "R2"
   ]
  },
  {
   "cell_type": "code",
   "execution_count": 56,
   "metadata": {},
   "outputs": [
    {
     "data": {
      "text/plain": [
       "Text(0.5, 1.0, 'Valor Actual vs Prediccion')"
      ]
     },
     "execution_count": 56,
     "metadata": {},
     "output_type": "execute_result"
    },
    {
     "data": {
      "image/png": "[encoded data removed]",
      "text/plain": [
       "<Figure size 432x288 with 1 Axes>"
      ]
     },
     "metadata": {
      "needs_background": "light"
     },
     "output_type": "display_data"
    }
   ],
   "source": [
    "%matplotlib inline \n",
    "plt.plot(x,y_pred)\n",
    "plt.plot(x,y_act,\"ro\")\n",
    "plt.plot(x,y_mean,\"g\")\n",
    "plt.plot(data[\"x\"],data[\"y_model\"])\n",
    "plt.title(\"Valor Actual vs Prediccion\")"
   ]
  },
  {
   "cell_type": "markdown",
   "metadata": {},
   "source": [
    "## Error estandar de los residuos (RSE)"
   ]
  },
  {
   "cell_type": "code",
   "execution_count": 61,
   "metadata": {},
   "outputs": [],
   "source": [
    "SSD\n",
    "RSE = np.sqrt(SSD/(len(data)-2))\n",
    "#RSE"
   ]
  },
  {
   "cell_type": "code",
   "execution_count": 63,
   "metadata": {},
   "outputs": [
    {
     "data": {
      "text/plain": [
       "0.01335791760361244"
      ]
     },
     "execution_count": 63,
     "metadata": {},
     "output_type": "execute_result"
    }
   ],
   "source": [
    "RSE / np.mean(data[\"y\"])"
   ]
  },
  {
   "cell_type": "code",
   "execution_count": null,
   "metadata": {},
   "outputs": [],
   "source": []
  }
 ],
 "metadata": {
  "kernelspec": {
   "display_name": "Python 3",
   "language": "python",
   "name": "python3"
  },
  "language_info": {
   "codemirror_mode": {
    "name": "ipython",
    "version": 3
   },
   "file_extension": ".py",
   "mimetype": "text/x-python",
   "name": "python",
   "nbconvert_exporter": "python",
   "pygments_lexer": "ipython3",
   "version": "3.6.7"
  }
 },
 "nbformat": 4,
 "nbformat_minor": 2
}
